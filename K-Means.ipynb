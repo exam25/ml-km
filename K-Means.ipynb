{
 "cells": [
  {
   "cell_type": "code",
   "execution_count": 259,
   "id": "0f26d7d8-c508-45a4-9e02-09e99a720bd9",
   "metadata": {},
   "outputs": [],
   "source": [
    "import numpy as np\n",
    "import pandas as pd"
   ]
  },
  {
   "cell_type": "code",
   "execution_count": 283,
   "id": "fd160dc4-2499-4b1d-8c18-f2326d723420",
   "metadata": {},
   "outputs": [],
   "source": [
    "data = [[5.9,3.2], \n",
    "        [4.6,2.9], \n",
    "        [6.2,2.8], \n",
    "        [4.7,3.2], \n",
    "        [5.5,4.2],\n",
    "        [5.0,3.0], \n",
    "        [4.9,3.1], \n",
    "        [6.7,3.1], \n",
    "        [5.1,3.8], \n",
    "        [6.0,3.0]]\n",
    "\n",
    "centers = {'red':[6.2, 3.2], #red u1\n",
    "           'green':[6.6, 3.7], #green u2\n",
    "           'blue':[6.5, 3.0]} #blue u3"
   ]
  },
  {
   "cell_type": "code",
   "execution_count": 284,
   "id": "5a1b9fc6-e606-42ab-bab0-e592a41b8618",
   "metadata": {},
   "outputs": [],
   "source": [
    "def cluster(row):\n",
    "    dred = (((row.x - centers['red'][0])**2) + ((row.y - centers['red'][1])**2))**0.5\n",
    "    dgreen = (((row.x - centers['green'][0])**2) + ((row.y - centers['green'][1])**2))**0.5\n",
    "    dblue = (((row.x - centers['blue'][0])**2) + ((row.y - centers['blue'][1])**2))**0.5\n",
    "\n",
    "    if(dred <= dgreen) and (dred <= dblue):\n",
    "        return 'red'\n",
    "    elif(dgreen <= dred) and (dgreen <= dblue):\n",
    "        return 'green'\n",
    "    return 'blue'"
   ]
  },
  {
   "cell_type": "code",
   "execution_count": 285,
   "id": "336f081f-5158-4741-852a-9b563eca8e76",
   "metadata": {},
   "outputs": [
    {
     "data": {
      "text/html": [
       "<div>\n",
       "<style scoped>\n",
       "    .dataframe tbody tr th:only-of-type {\n",
       "        vertical-align: middle;\n",
       "    }\n",
       "\n",
       "    .dataframe tbody tr th {\n",
       "        vertical-align: top;\n",
       "    }\n",
       "\n",
       "    .dataframe thead th {\n",
       "        text-align: right;\n",
       "    }\n",
       "</style>\n",
       "<table border=\"1\" class=\"dataframe\">\n",
       "  <thead>\n",
       "    <tr style=\"text-align: right;\">\n",
       "      <th></th>\n",
       "      <th>x</th>\n",
       "      <th>y</th>\n",
       "      <th>z</th>\n",
       "    </tr>\n",
       "  </thead>\n",
       "  <tbody>\n",
       "    <tr>\n",
       "      <th>0</th>\n",
       "      <td>5.9</td>\n",
       "      <td>3.2</td>\n",
       "      <td>red</td>\n",
       "    </tr>\n",
       "    <tr>\n",
       "      <th>1</th>\n",
       "      <td>4.6</td>\n",
       "      <td>2.9</td>\n",
       "      <td>red</td>\n",
       "    </tr>\n",
       "    <tr>\n",
       "      <th>2</th>\n",
       "      <td>6.2</td>\n",
       "      <td>2.8</td>\n",
       "      <td>blue</td>\n",
       "    </tr>\n",
       "    <tr>\n",
       "      <th>3</th>\n",
       "      <td>4.7</td>\n",
       "      <td>3.2</td>\n",
       "      <td>red</td>\n",
       "    </tr>\n",
       "    <tr>\n",
       "      <th>4</th>\n",
       "      <td>5.5</td>\n",
       "      <td>4.2</td>\n",
       "      <td>green</td>\n",
       "    </tr>\n",
       "    <tr>\n",
       "      <th>5</th>\n",
       "      <td>5.0</td>\n",
       "      <td>3.0</td>\n",
       "      <td>red</td>\n",
       "    </tr>\n",
       "    <tr>\n",
       "      <th>6</th>\n",
       "      <td>4.9</td>\n",
       "      <td>3.1</td>\n",
       "      <td>red</td>\n",
       "    </tr>\n",
       "    <tr>\n",
       "      <th>7</th>\n",
       "      <td>6.7</td>\n",
       "      <td>3.1</td>\n",
       "      <td>blue</td>\n",
       "    </tr>\n",
       "    <tr>\n",
       "      <th>8</th>\n",
       "      <td>5.1</td>\n",
       "      <td>3.8</td>\n",
       "      <td>red</td>\n",
       "    </tr>\n",
       "    <tr>\n",
       "      <th>9</th>\n",
       "      <td>6.0</td>\n",
       "      <td>3.0</td>\n",
       "      <td>red</td>\n",
       "    </tr>\n",
       "  </tbody>\n",
       "</table>\n",
       "</div>"
      ],
      "text/plain": [
       "     x    y      z\n",
       "0  5.9  3.2    red\n",
       "1  4.6  2.9    red\n",
       "2  6.2  2.8   blue\n",
       "3  4.7  3.2    red\n",
       "4  5.5  4.2  green\n",
       "5  5.0  3.0    red\n",
       "6  4.9  3.1    red\n",
       "7  6.7  3.1   blue\n",
       "8  5.1  3.8    red\n",
       "9  6.0  3.0    red"
      ]
     },
     "execution_count": 285,
     "metadata": {},
     "output_type": "execute_result"
    }
   ],
   "source": [
    "df = pd.DataFrame(data, columns=['x', 'y'])\n",
    "df['z'] = df.apply(cluster, axis=1)\n",
    "df"
   ]
  },
  {
   "cell_type": "code",
   "execution_count": 286,
   "id": "40484f9e-10c6-4f19-b311-49d425f890ea",
   "metadata": {},
   "outputs": [
    {
     "name": "stdout",
     "output_type": "stream",
     "text": [
      "Red center after 1 iteration : (5.171, 3.171)\n",
      "1\n",
      "     x    y      z\n",
      "0  5.9  3.2    red\n",
      "1  4.6  2.9    red\n",
      "2  6.2  2.8   blue\n",
      "3  4.7  3.2    red\n",
      "4  5.5  4.2  green\n",
      "5  5.0  3.0    red\n",
      "6  4.9  3.1    red\n",
      "7  6.7  3.1   blue\n",
      "8  5.1  3.8    red\n",
      "9  6.0  3.0    red\n",
      "{'red': [5.171, 3.171], 'green': [5.5, 4.2], 'blue': [6.45, 2.95]}\n",
      "Green center after 2 iterations : (5.5, 4.2)\n",
      "\n",
      "Convergence Complete. Number of Iteration: 2\n",
      "Red Center: [5.171, 3.171]\n",
      "Green Center: [5.5, 4.2]\n",
      "Blue Center: [6.45, 2.95]\n"
     ]
    }
   ],
   "source": [
    "n_iter = 0\n",
    "\n",
    "while(True):\n",
    "    prev = centers\n",
    "    cred = df[df['z'] == 'red'][['x', 'y']].mean().apply(lambda pt: round(pt, 3))\n",
    "    cblue = df[df['z'] == 'blue'][['x', 'y']].mean().apply(lambda pt: round(pt, 3))\n",
    "    cgreen = df[df['z'] == 'green'][['x', 'y']].mean().apply(lambda pt: round(pt, 3))\n",
    "\n",
    "    n_iter += 1\n",
    "    \n",
    "    if(n_iter == 1):\n",
    "        print(f\"Red center after 1 iteration : ({cred['x']}, {cred['y']})\")\n",
    "    elif(n_iter == 2):\n",
    "        print(f\"Green center after 2 iterations : ({cgreen['x']}, {cgreen['y']})\")\n",
    "    elif(n_iter == 3):\n",
    "        print(f\"Blue center after 3 iterations : ({cblue['x']}, {cblue['y']})\")\n",
    "    \n",
    "    if (list(cred) == centers['red']) and  (list(cblue) == centers['blue']) and  (list(cgreen) == centers['green']):\n",
    "        print(f\"\\nConvergence Complete. Number of Iteration: {n_iter}\")\n",
    "        print(f\"Red Center: {centers['red']}\")\n",
    "        print(f\"Green Center: {centers['green']}\")\n",
    "        print(f\"Blue Center: {centers['blue']}\")\n",
    "        break\n",
    "\n",
    "    centers['red'] = list(cred)\n",
    "    centers['green'] = list(cgreen)\n",
    "    centers['blue'] = list(cblue)\n",
    "\n",
    "    print(n_iter)\n",
    "    print(df)\n",
    "    print(centers)"
   ]
  },
  {
   "cell_type": "code",
   "execution_count": 266,
   "id": "3733e8c9-068d-44cc-856f-4d0b764826ce",
   "metadata": {},
   "outputs": [
    {
     "data": {
      "text/plain": [
       "[5.171428571428572, 3.1714285714285713]"
      ]
     },
     "execution_count": 266,
     "metadata": {},
     "output_type": "execute_result"
    }
   ],
   "source": [
    "list(df[df['z'] == 'red'][['x', 'y']].mean())"
   ]
  }
 ],
 "metadata": {
  "kernelspec": {
   "display_name": "Python 3 (ipykernel)",
   "language": "python",
   "name": "python3"
  },
  "language_info": {
   "codemirror_mode": {
    "name": "ipython",
    "version": 3
   },
   "file_extension": ".py",
   "mimetype": "text/x-python",
   "name": "python",
   "nbconvert_exporter": "python",
   "pygments_lexer": "ipython3",
   "version": "3.11.4"
  }
 },
 "nbformat": 4,
 "nbformat_minor": 5
}
