{
 "cells": [
  {
   "cell_type": "code",
   "execution_count": null,
   "id": "0ac5ce9f",
   "metadata": {},
   "outputs": [],
   "source": [
    "import pandas as pd \n",
    "import numpy as np\n",
    "from copy import deepcopy\n",
    "k=2"
   ]
  },
  {
   "cell_type": "code",
   "execution_count": null,
   "id": "915be7e8",
   "metadata": {},
   "outputs": [],
   "source": [
    "X = np.array([[5.9,3.2],\n",
    "[4.6,2.9],\n",
    "[6.2,2.8],\n",
    "[4.7,3.2],\n",
    "[5.5,4.2],\n",
    "[5.0,3.0],\n",
    "[4.9,3.1],\n",
    "[6.7,3.1],\n",
    "[5.1,3.8],\n",
    "[6.0,3.0]\n",
    "])\n",
    "\n",
    "Centroid=np.array([[6.2, 3.2],  # μ1 (red)\n",
    "                            [6.6, 3.7],  # μ2 (green)\n",
    "                            [6.5, 3.0]   # μ3 (blue)\n",
    "                           ])\n",
    "\n",
    "clusters = np.zeros(len(X))"
   ]
  },
  {
   "cell_type": "code",
   "execution_count": null,
   "id": "6ea94e0e",
   "metadata": {},
   "outputs": [],
   "source": [
    "Centroid_old=np.zeros(Centroid.shape)\n",
    "print(Centroid_old)\n",
    "\n",
    "def euclidean_dist(a,b,ax=1):\n",
    "    return np.linalg.norm(a-b,axis=ax)\n",
    "\n",
    "error=euclidean_dist(Centroid,Centroid_old,None)\n",
    "print(error)"
   ]
  },
  {
   "cell_type": "code",
   "execution_count": null,
   "id": "6d1ad2b9",
   "metadata": {},
   "outputs": [],
   "source": [
    "iter=0\n",
    "while error!=0:\n",
    "    iter+1\n",
    "    for i in range(len(X)):\n",
    "        distance=euclidean_dist(X[i],Centroid)\n",
    "        cluster=np.argmin(distance)\n",
    "        clusters[i]=cluster\n",
    "        Centroid_old=deepcopy(Centroid)\n",
    "        print(Centroid_old)\n",
    "        \n",
    "    for p in range(k):\n",
    "        point=[X[j] for j in range(len(X)) if clusters[j]==p]\n",
    "        Centroid[p]=np.mean(point,axis=0)\n",
    "        error=euclidean_dist(Centroid,Centroid_old,None)\n",
    "        print(error)\n",
    "        print('Data points belong to cluster: ')\n",
    "        print(clusters)"
   ]
  },
  {
   "cell_type": "code",
   "execution_count": null,
   "id": "e272b6c5",
   "metadata": {},
   "outputs": [],
   "source": []
  }
 ],
 "metadata": {
  "kernelspec": {
   "display_name": "Python 3 (ipykernel)",
   "language": "python",
   "name": "python3"
  },
  "language_info": {
   "codemirror_mode": {
    "name": "ipython",
    "version": 3
   },
   "file_extension": ".py",
   "mimetype": "text/x-python",
   "name": "python",
   "nbconvert_exporter": "python",
   "pygments_lexer": "ipython3",
   "version": "3.11.4"
  }
 },
 "nbformat": 4,
 "nbformat_minor": 5
}
